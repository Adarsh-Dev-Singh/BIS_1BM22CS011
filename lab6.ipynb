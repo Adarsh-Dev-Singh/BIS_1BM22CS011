{
 "cells": [
  {
   "cell_type": "code",
   "execution_count": 1,
   "metadata": {},
   "outputs": [
    {
     "name": "stdout",
     "output_type": "stream",
     "text": [
      "Iteration 1/5, Best Fitness: 18.771294378763393\n",
      "Iteration 2/5, Best Fitness: 3.182642275543552\n",
      "Iteration 3/5, Best Fitness: 2.8627538512585664\n",
      "Iteration 4/5, Best Fitness: 2.8627538512585664\n",
      "Iteration 5/5, Best Fitness: 2.2757352980971146\n",
      "Name: Adarsh Dev Singh\n",
      "USN: 1BM22CS011\n",
      "\n",
      "Final Best Fitness: 2.2757352980971146\n",
      "Final Best Solution: [ 0.5695314  -1.2437408   0.50539922 -0.29965738 -0.24342387]\n"
     ]
    }
   ],
   "source": [
    "import numpy as np\n",
    "\n",
    "def obj_fn(x):\n",
    "    return np.sum(x**2)\n",
    "\n",
    "def update_cell_state(cell, neighbors, lb, ub):\n",
    "    # Update the cell state based on the average of its neighbors\n",
    "    new_state = np.mean(neighbors, axis=0)\n",
    "    new_state = np.clip(new_state, lb, ub)\n",
    "    return new_state\n",
    "\n",
    "def parallel_cellular_algorithm(obj_fn, dim, grid_size, iterations, lb, ub):\n",
    "    # Initialize the grid with random values\n",
    "    grid = np.random.uniform(lb, ub, (grid_size, grid_size, dim))\n",
    "    best_solution = None\n",
    "    best_fitness = float('inf')\n",
    "    # Define neighborhood as the 4-connected neighbors\n",
    "    neighborhood = [(-1, 0), (1, 0), (0, -1), (0, 1)]\n",
    "\n",
    "    for t in range(iterations):\n",
    "        # Evaluate the fitness of each cell and track the best solution\n",
    "        for i in range(grid_size):\n",
    "            for j in range(grid_size):\n",
    "                fitness = obj_fn(grid[i, j])\n",
    "                if fitness < best_fitness:\n",
    "                    best_fitness = fitness\n",
    "                    best_solution = grid[i, j]\n",
    "\n",
    "        # Update the grid based on the neighborhood\n",
    "        new_grid = np.copy(grid)\n",
    "        for i in range(grid_size):\n",
    "            for j in range(grid_size):\n",
    "                neighbors = []\n",
    "                for dx, dy in neighborhood:\n",
    "                    ni, nj = (i + dx) % grid_size, (j + dy) % grid_size\n",
    "                    neighbors.append(grid[ni, nj])\n",
    "                new_grid[i, j] = update_cell_state(grid[i, j], neighbors, lb, ub)\n",
    "        grid = np.copy(new_grid)\n",
    "\n",
    "        print(f\"Iteration {t + 1}/{iterations}, Best Fitness: {best_fitness}\")\n",
    "\n",
    "    return best_fitness, best_solution\n",
    "\n",
    "# Parameters\n",
    "dim = 5\n",
    "grid_size = 10\n",
    "iterations = 5\n",
    "lb = -10\n",
    "ub = 10\n",
    "\n",
    "# Execute the parallel cellular algorithm\n",
    "best_fitness, best_solution = parallel_cellular_algorithm(obj_fn, dim, grid_size, iterations, lb, ub)\n",
    "\n",
    "# Output\n",
    "print(\"Name: Adarsh Dev Singh\")\n",
    "print(\"USN: 1BM22CS011\")\n",
    "print(\"\\nFinal Best Fitness:\", best_fitness)\n",
    "print(\"Final Best Solution:\", best_solution)\n"
   ]
  }
 ],
 "metadata": {
  "kernelspec": {
   "display_name": "Python (cuda)",
   "language": "python",
   "name": "cuda"
  },
  "language_info": {
   "codemirror_mode": {
    "name": "ipython",
    "version": 3
   },
   "file_extension": ".py",
   "mimetype": "text/x-python",
   "name": "python",
   "nbconvert_exporter": "python",
   "pygments_lexer": "ipython3",
   "version": "3.12.4"
  }
 },
 "nbformat": 4,
 "nbformat_minor": 2
}
