{
 "cells": [
  {
   "cell_type": "code",
   "execution_count": 2,
   "metadata": {},
   "outputs": [
    {
     "name": "stdout",
     "output_type": "stream",
     "text": [
      "StudentName: Adarsh Dev Singh\n",
      "USN: 1BM22CS011\n",
      "Iteration 1: Global best = 0.012856773590133486, Fitness = -0.00016529662714795387\n",
      "Iteration 2: Global best = 0.012856773590133486, Fitness = -0.00016529662714795387\n",
      "Iteration 3: Global best = 0.012856773590133486, Fitness = -0.00016529662714795387\n",
      "Iteration 4: Global best = 0.00823584632501495, Fitness = -6.782916468926227e-05\n",
      "Iteration 5: Global best = -0.005914586290181656, Fitness = -3.49823309840048e-05\n",
      "Best solution found: -0.005914586290181656, Fitness: -3.49823309840048e-05\n"
     ]
    }
   ],
   "source": [
    "from numpy import *\n",
    "def fitness_function(x):\n",
    "    return -x ** 2\n",
    "\n",
    "class Particle:\n",
    "    def __init__(self, min_x, max_x):\n",
    "        self.position = random.uniform(min_x, max_x)\n",
    "        self.velocity = random.uniform(-1, 1)\n",
    "        self.best_position = self.position\n",
    "        self.best_fitness = fitness_function(self.position)\n",
    "\n",
    "    def update_velocity(self, global_best_position, inertia, cognitive, social):\n",
    "        r1, r2 = random.random(), random.random()\n",
    "        cognitive_velocity = cognitive * r1 * (self.best_position - self.position)\n",
    "        social_velocity = social * r2 * (global_best_position - self.position)\n",
    "        self.velocity = inertia * self.velocity + cognitive_velocity + social_velocity\n",
    "\n",
    "    def update_position(self, min_x, max_x):\n",
    "        self.position += self.velocity\n",
    "        self.position = max(min(self.position, max_x), min_x)\n",
    "        fitness = fitness_function(self.position)\n",
    "        if fitness > self.best_fitness:\n",
    "            self.best_position = self.position\n",
    "            self.best_fitness = fitness\n",
    "\n",
    "def particle_swarm_optimization(pop_size, min_x, max_x, inertia, cognitive, social, iterations):\n",
    "    swarm = [Particle(min_x, max_x) for _ in range(pop_size)]\n",
    "    global_best_position = max(swarm, key=lambda p: p.best_fitness).best_position\n",
    "    for iteration in range(iterations):\n",
    "        for particle in swarm:\n",
    "            particle.update_velocity(global_best_position, inertia, cognitive, social)\n",
    "            particle.update_position(min_x, max_x)\n",
    "            if fitness_function(particle.position) > fitness_function(global_best_position):\n",
    "                global_best_position = particle.position\n",
    "        print(f\"Iteration {iteration + 1}: Global best = {global_best_position}, Fitness = {fitness_function(global_best_position)}\")\n",
    "    return global_best_position\n",
    "\n",
    "print(\"StudentName: Adarsh Dev Singh\")\n",
    "print(\"USN: 1BM22CS011\")\n",
    "\n",
    "population_size = 30\n",
    "min_value = -10\n",
    "max_value = 10\n",
    "inertia_weight = 0.5\n",
    "cognitive_constant = 1.5\n",
    "social_constant = 1.5\n",
    "num_iterations = 5\n",
    "\n",
    "best_solution = particle_swarm_optimization(population_size, min_value, max_value, inertia_weight, cognitive_constant, social_constant, num_iterations)\n",
    "print(f\"Best solution found: {best_solution}, Fitness: {fitness_function(best_solution)}\")\n"
   ]
  }
 ],
 "metadata": {
  "kernelspec": {
   "display_name": "base",
   "language": "python",
   "name": "python3"
  },
  "language_info": {
   "codemirror_mode": {
    "name": "ipython",
    "version": 3
   },
   "file_extension": ".py",
   "mimetype": "text/x-python",
   "name": "python",
   "nbconvert_exporter": "python",
   "pygments_lexer": "ipython3",
   "version": "3.12.4"
  }
 },
 "nbformat": 4,
 "nbformat_minor": 2
}
